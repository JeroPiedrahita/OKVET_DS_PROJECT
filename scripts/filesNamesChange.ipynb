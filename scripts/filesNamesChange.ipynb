{
 "cells": [
  {
   "cell_type": "markdown",
   "id": "1d154b28",
   "metadata": {},
   "source": [
    "***Este script convierte automáticamente archivos .csv (como propietarios.csv y mascotas.csv) a archivos .xlsx para mantener consistencia con el resto de la data del proyecto.***"
   ]
  },
  {
   "cell_type": "code",
   "execution_count": null,
   "id": "061ab626",
   "metadata": {},
   "outputs": [
    {
     "name": "stdout",
     "output_type": "stream",
     "text": [
      "Convertido mascotas.csv a mascotas.xlsx\n",
      "Convertido propietarios.csv a propietarios.xlsx\n"
     ]
    }
   ],
   "source": [
    "import pandas as pd\n",
    "import os #Not needed, but useful for debugging\n",
    "\n",
    "#Lista de archivos a procesar\n",
    "files = [\"mascotas.csv\", \"propietarios.csv\"]\n",
    "\n",
    "#Ruta de destino para los archivos procesados\n",
    "output_path = \"./OKVET_DS_PROJECT/data/\" # Ruta donde se guardarán los archivos Excel\n",
    "# output_path = \"../data/\"  # Desde esta ruta en script, se devuelve la ruta y luego se accede a data/\n",
    "\n",
    "for file in files: \n",
    "    name_non_ext = os.path.splitext(file)[0]# Obtener el nombre del archivo sin la extensión\n",
    "    #name_non_ext = file.replace('.csv', '')  # Alternativa para obtener el nombre sin extensión\n",
    "    \n",
    "    df = pd.read_csv(file)  # Leer el archivo CSV\n",
    "\n",
    "    df.to_excel(f'{output_path}{name_non_ext}.xlsx', index=False)  # Guardar como Excel sin índice\n",
    "\n",
    "    print(f'Convertido {file} a {name_non_ext}.xlsx')  # Mensaje de confirmación"
   ]
  }
 ],
 "metadata": {
  "kernelspec": {
   "display_name": "okvet_gen",
   "language": "python",
   "name": "python3"
  },
  "language_info": {
   "codemirror_mode": {
    "name": "ipython",
    "version": 3
   },
   "file_extension": ".py",
   "mimetype": "text/x-python",
   "name": "python",
   "nbconvert_exporter": "python",
   "pygments_lexer": "ipython3",
   "version": "3.11.13"
  }
 },
 "nbformat": 4,
 "nbformat_minor": 5
}

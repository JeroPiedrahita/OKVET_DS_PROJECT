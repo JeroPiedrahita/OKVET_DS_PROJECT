{
 "cells": [
  {
   "cell_type": "markdown",
   "id": "0db8c12c",
   "metadata": {},
   "source": [
    "**Análisis exploratorios de datos**"
   ]
  },
  {
   "cell_type": "code",
   "execution_count": 15,
   "id": "70d5a205",
   "metadata": {},
   "outputs": [],
   "source": [
    "import os\n",
    "import pandas as pd\n",
    "import json\n",
    "from pprint import pprint"
   ]
  },
  {
   "cell_type": "markdown",
   "id": "a0f2f69f",
   "metadata": {},
   "source": [
    "Funcion de analisis"
   ]
  },
  {
   "cell_type": "code",
   "execution_count": 16,
   "id": "e039ec82",
   "metadata": {},
   "outputs": [],
   "source": [
    "def analizar_hoja(df, nombre):\n",
    "    \"\"\"\n",
    "    Analiza un DataFrame de pandas y regresa un diccionario con los resultados.\n",
    "    \"\"\"\n",
    "    analisis = {}\n",
    "    analisis['nombre'] = nombre\n",
    "    analisis['forma'] = df.shape\n",
    "    analisis['columnas'] = df.columns.tolist()\n",
    "    analisis['tipos_datos'] = df.dtypes.astype(str).to_dict()\n",
    "    analisis['valores_nulos'] = df.isnull().sum().to_dict()\n",
    "    analisis['valores_unicos'] = df.nunique().to_dict()\n",
    "\n",
    "    # Estadísticas de tendencia central para columnas numéricas\n",
    "    estadisticas = {}\n",
    "    for col in df.select_dtypes(include='number').columns:\n",
    "        estadisticas[col] = {\n",
    "            'media': df[col].mean(),\n",
    "            'mediana': df[col].median(),\n",
    "            #'moda': df[col].mode().values.tolist() if not df[col].mode().empty else [],\n",
    "            'nulos': int(df[col].isnull().sum())\n",
    "        }\n",
    "    analisis['estadisticas_tendencia_central'] = estadisticas\n",
    "\n",
    "    # Ejemplo de los primeros 5 registros\n",
    "    analisis['ejemplo'] = df.head().to_dict()\n",
    "\n",
    "    return analisis\n"
   ]
  },
  {
   "cell_type": "code",
   "execution_count": 17,
   "id": "c05605f9",
   "metadata": {},
   "outputs": [],
   "source": [
    "# 📂 Ruta a la carpeta con los archivos Excel\n",
    "# carpeta = \"/home/jeropf/OKVET/OKVET_DS_PROJECT/data\"\n",
    "carpeta = os.path.abspath(os.path.join(os.getcwd(), \"../data\"))\n",
    "\n",
    "resultados_analisis = {}\n",
    "\n",
    "for archivo in os.listdir(carpeta):\n",
    "    if archivo.lower().endswith('.xlsx'):\n",
    "        ruta_archivo = os.path.join(carpeta, archivo)\n",
    "        try:\n",
    "            excel = pd.ExcelFile(ruta_archivo)\n",
    "            for hoja in excel.sheet_names:\n",
    "                try:\n",
    "                    df = pd.read_excel(ruta_archivo, sheet_name=hoja)\n",
    "                    analisis = analizar_hoja(df, f\"{archivo} - {hoja}\")\n",
    "                    if archivo not in resultados_analisis:\n",
    "                        resultados_analisis[archivo] = {}\n",
    "                    resultados_analisis[archivo][hoja] = analisis\n",
    "                except Exception as e:\n",
    "                    print(f\"❌ Error leyendo hoja '{hoja}' en '{archivo}': {e}\")\n",
    "        except Exception as e:\n",
    "            print(f\"❌ Error abriendo archivo '{archivo}': {e}\")"
   ]
  },
  {
   "cell_type": "markdown",
   "id": "404dbf13",
   "metadata": {},
   "source": [
    "Extraccion de Hojas de Excel"
   ]
  },
  {
   "cell_type": "code",
   "execution_count": 18,
   "id": "f2753a40",
   "metadata": {},
   "outputs": [
    {
     "name": "stdout",
     "output_type": "stream",
     "text": [
      "✅ Archivo resumen_eda.json guardado correctamente.\n",
      "{'attitude': {'media': 0.162, 'mediana': 0.0, 'nulos': 0},\n",
      " 'cardiovascular': {'media': 0.127, 'mediana': 0.0, 'nulos': 0},\n",
      " 'differential_diagnosis': {'media': nan, 'mediana': nan, 'nulos': 1000},\n",
      " 'digestive': {'media': 0.181, 'mediana': 0.0, 'nulos': 0},\n",
      " 'dx_differential': {'media': nan, 'mediana': nan, 'nulos': 1000},\n",
      " 'dx_final': {'media': nan, 'mediana': nan, 'nulos': 1000},\n",
      " 'dx_presumptive': {'media': nan, 'mediana': nan, 'nulos': 1000},\n",
      " 'ears': {'media': 0.122, 'mediana': 0.0, 'nulos': 0},\n",
      " 'eyes': {'media': 0.135, 'mediana': 0.0, 'nulos': 0},\n",
      " 'final_diagnosis': {'media': nan, 'mediana': nan, 'nulos': 1000},\n",
      " 'hydration': {'media': 0.142, 'mediana': 0.0, 'nulos': 0},\n",
      " 'id': {'media': 1808874.5, 'mediana': 1808874.5, 'nulos': 0},\n",
      " 'import_id': {'media': nan, 'mediana': nan, 'nulos': 1000},\n",
      " 'lymph_nodes': {'media': 0.144, 'mediana': 0.0, 'nulos': 0},\n",
      " 'mucous': {'media': 0.146, 'mediana': 0.0, 'nulos': 0},\n",
      " 'muscle': {'media': 0.142, 'mediana': 0.0, 'nulos': 0},\n",
      " 'nervous': {'media': 0.124, 'mediana': 0.0, 'nulos': 0},\n",
      " 'nutritional': {'media': 0.149, 'mediana': 0.0, 'nulos': 0},\n",
      " 'pet_id': {'media': 1655070.163, 'mediana': 1974825.0, 'nulos': 0},\n",
      " 'problems': {'media': nan, 'mediana': nan, 'nulos': 1000},\n",
      " 'reproductive': {'media': 0.108, 'mediana': 0.0, 'nulos': 0},\n",
      " 'respiratory': {'media': 0.134, 'mediana': 0.0, 'nulos': 0},\n",
      " 'skin': {'media': 0.147, 'mediana': 0.0, 'nulos': 0},\n",
      " 'temperature': {'media': 39.520372670807454, 'mediana': 38.5, 'nulos': 678},\n",
      " 'treatment': {'media': nan, 'mediana': nan, 'nulos': 1000},\n",
      " 'urinary': {'media': 0.125, 'mediana': 0.0, 'nulos': 0},\n",
      " 'user_id': {'media': 13054.746, 'mediana': 13777.5, 'nulos': 0},\n",
      " 'vet_id': {'media': 7031.291, 'mediana': 5821.0, 'nulos': 0},\n",
      " 'waiting_room_shift_id': {'media': 23035.0, 'mediana': 23029.5, 'nulos': 992},\n",
      " 'weight': {'media': 16.04407310704961, 'mediana': 6.5, 'nulos': 617}}\n"
     ]
    }
   ],
   "source": [
    "# ✅ Guardar resultados como JSON\n",
    "try:\n",
    "    with open(\"resumen_eda.json\", \"w\", encoding=\"utf-8\") as f:\n",
    "        json.dump(resultados_analisis, f, indent=2, ensure_ascii=False, default=str)\n",
    "    print(\"✅ Archivo resumen_eda.json guardado correctamente.\")\n",
    "except Exception as e:\n",
    "    print(f\"❌ Error guardando JSON: {e}\")\n",
    "\n",
    "\n",
    "# 👀 Revisión rápida en Jupyter Notebook (ejemplo)\n",
    "# Cambia \"archivo.xlsx\" y \"Hoja1\" por los reales de tu carpeta\n",
    "pprint(resultados_analisis[\"consultas.xlsx\"][\"Sheet1\"][\"estadisticas_tendencia_central\"])"
   ]
  }
 ],
 "metadata": {
  "kernelspec": {
   "display_name": "okvet_gen",
   "language": "python",
   "name": "python3"
  },
  "language_info": {
   "codemirror_mode": {
    "name": "ipython",
    "version": 3
   },
   "file_extension": ".py",
   "mimetype": "text/x-python",
   "name": "python",
   "nbconvert_exporter": "python",
   "pygments_lexer": "ipython3",
   "version": "3.11.13"
  }
 },
 "nbformat": 4,
 "nbformat_minor": 5
}
